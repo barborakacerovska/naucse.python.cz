{
 "cells": [
  {
   "cell_type": "markdown",
   "metadata": {},
   "source": [
    "# Pár příkladů pro vás \n",
    "\n",
    "Následující příklady nejsou na programování. Pouze si popovídáme o tom, jak byste danou situaci pomocí\n",
    "strojového učení řešily. \n",
    "\n",
    "Míč je na vaší straně. Nebojte se navrhnout cokoli vám bude připadat dobré, koučové vás případně usměrní. \n",
    "\n",
    "*Pozn. pro kouče: nebude se nic programovat, příklady jsou určeny k diskuzi o tom, co všechno je potřeba (metrika, baseline řešení, atd.), jaké sloupečky vybrat jako příznaky, apod.*"
   ]
  },
  {
   "cell_type": "markdown",
   "metadata": {},
   "source": [
    "1. **Diabetes**. Prohlédněte si následující náhled dat a navrhněte,\n",
    "jak byste predikovali progresi nemoci u nového pacienta.\n",
    "\n",
    " - Můžete si úlohu převést na úlohu s krajinou, co budou souřadnice a co bude výška krajiny?\n",
    " - Jak budete měřit úspěšnost predikce?\n",
    " - Jak posoudíte, zda se vám úlohu podařilo dostatečně zvládnout?\n",
    " \n",
    "  ...\n",
    " \n",
    " ![dataset_preview](static/diabetes.png)\n",
    " \n",
    "\n",
    "2. **Populace**. Stáhněte si notebook [excercise.ipynb](static/excercise.ipynb),\n",
    " je v něm vypracovaná úloha predikce počtu obyvatel v závislosti \n",
    " na velikosti oblasti/města. Naučený model (*krabička*) ale počet\n",
    " obyvatel často podhodnocuje.\n",
    "  \n",
    "   Prohlédněte si řešení v notebooku a zkuste přijít na to,\n",
    "   co děláme špatně. \n",
    "\n",
    "2. **Baseline**. V předchozím úkolu jsme použili jako *baseline* řešení průměr. Napadá tě jiná jednoduchá cesta, jak velikost populace odhadovat?\n",
    "\n",
    "3. **Výška**. Máte k dispozici data obsahující věk a výšku člověka. Jak budete postupovat, budete-li chtít predikovat věk na základě výšky.\n",
    "\n",
    "\n",
    "4. **Výška II**. K předešlé úloze dostaneme navíc informaci o pohlaví.\n",
    "Využijeme ji?\n",
    "\n",
    "\n",
    "5. **Výška III**. Tentokrát data obsahují kromě věku, pohlaví, výšky, také velikost města, kde dotyčná osoba žije. Bude se nám další proměnná hodit?\n",
    "\n",
    "6. **IQ** Stále chceme predikovat výšku, máme však tentokrát k dispozici pouze velikost města, kde osoba žije, a její IQ.\n",
    "\n",
    "7. **Věk**. Máme nového šéfa. V rámci zefektivnění evidence zaměstnanců chce vytvořit model, který bude pro hodnotu rodného čísla vracet věk. Co bude vstupem a výstupem, jak budeme postupovat?\n",
    "\n",
    "8. **PyLadies** Máte k dispozici statistiku účastnic PyLadies. Počet splněných úkolů, počty absencí, zda PyLady už pracovala před kurzem s daty. Co potřebujete k tomu, abyste na základě těchto informací byly schopné predikovat pravděpodobnost, že daná účastnice najde po kurzu práci jako datová analytička?\n",
    "\n",
    "9. **TODO** Něco na kategorické proměnné, víc než dvě hodnoty ... aby to vedlo na vymýšlení one-hot-encoding.\n",
    "\n",
    "10. **Personalista** Dostali jste hromadu CV uchazečů. Chtěli byste vytvořit model, který na základě údajů ze životopisu navrhne vhodný plat."
   ]
  },
  {
   "cell_type": "code",
   "execution_count": 2,
   "metadata": {},
   "outputs": [],
   "source": [
    "#TODO: spíš to bude MD file, ale líp se mi takhle edituje"
   ]
  },
  {
   "cell_type": "markdown",
   "metadata": {},
   "source": [
    "# TODO \n",
    "\n",
    "Bych ty příklady na výšku vyházela, je jich nějak moc. Místo toho vzít nějaká data co znají z EDA hodin\n",
    "a najít tam něco, co by se dalo predikovat.\n",
    "A nakonec klidně tu časovou řadu, ať si uvědomí, že vždycky to není tak, že co vzor to řádek a vybírají se sloupce. \n",
    "\n",
    "\n",
    "\n"
   ]
  },
  {
   "cell_type": "code",
   "execution_count": null,
   "metadata": {},
   "outputs": [],
   "source": []
  }
 ],
 "metadata": {
  "kernelspec": {
   "display_name": "Python 3",
   "language": "python",
   "name": "python3"
  },
  "language_info": {
   "codemirror_mode": {
    "name": "ipython",
    "version": 3
   },
   "file_extension": ".py",
   "mimetype": "text/x-python",
   "name": "python",
   "nbconvert_exporter": "python",
   "pygments_lexer": "ipython3",
   "version": "3.6.8"
  }
 },
 "nbformat": 4,
 "nbformat_minor": 2
}
