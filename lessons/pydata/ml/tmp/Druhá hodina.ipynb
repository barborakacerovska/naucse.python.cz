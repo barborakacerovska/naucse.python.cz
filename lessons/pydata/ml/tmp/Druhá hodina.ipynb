{
 "cells": [
  {
   "cell_type": "code",
   "execution_count": null,
   "metadata": {},
   "outputs": [],
   "source": [
    "# Druhá hodina\n",
    "\n",
    "\n",
    "1. diskuze nad domácím úkolem\n",
    "\n",
    "2. Scikit-learn\n",
    "\n",
    "   - X,y, čísla , preprocessing, train-test split \n",
    "   - Scikit- API: model, fit, predict, evaluate(score)\n",
    "    \n",
    " 3. prezentace regrese: implementace, vyhodnoceni \n",
    "    \n",
    "       \n",
    "Ukol: implementace REALITY\n",
    "      \n",
    "Ukol2: nova testovaci data     \n",
    "    \n",
    "## Klasifikace \n",
    " \n",
    "  - zacneme regresi - predikce pravdepodobnosti, pak k klasifikaci \n",
    "\n",
    " - baseline \n",
    " - metriky \n",
    "\n",
    " 4. prezentace regrese: implementace, vyhodnoceni \n",
    "\n",
    " Problemky: \n",
    "      1.  vek, vyska, MUZ/ZENA\n",
    "      2.  pocet obyvatel, rozloha, MESTO/VESNICE\n",
    "      3.  rodne cislo, je validni ANO/NE \n",
    "      4.  plat, dosazene vzdelani \n",
    "      5.    \n",
    "\n",
    "Ukol: implementace samy REALITY \n"
   ]
  }
 ],
 "metadata": {
  "kernelspec": {
   "display_name": "datacourse_env",
   "language": "python",
   "name": "datacourse_env"
  },
  "language_info": {
   "codemirror_mode": {
    "name": "ipython",
    "version": 3
   },
   "file_extension": ".py",
   "mimetype": "text/x-python",
   "name": "python",
   "nbconvert_exporter": "python",
   "pygments_lexer": "ipython3",
   "version": "3.6.8"
  }
 },
 "nbformat": 4,
 "nbformat_minor": 2
}
