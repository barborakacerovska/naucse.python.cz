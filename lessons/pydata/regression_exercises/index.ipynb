{
 "cells": [
  {
   "cell_type": "markdown",
   "metadata": {},
   "source": [
    "# Pár příkladů pro vás \n",
    "\n",
    "Následující příklady nejsou na programování. Pouze si popovídáme o tom, jak byste danou situaci pomocí\n",
    "strojového učení řešily. \n",
    "\n",
    "Míč je na vaší straně. Nebojte se navrhnout cokoli vám bude připadat dobré, koučové vás případně usměrní. \n"
   ]
  },
  {
   "cell_type": "markdown",
   "metadata": {},
   "source": [
    "1. Diabetes.\n",
    "\n",
    " \n",
    "    bmi, progress\n",
    "    bmi, neco, progress\n",
    "\n",
    "1. plocha mesta, pocet obyvatel - viz excercise.ipynb \n",
    "  \n",
    "   Prohlédněte si řešení v notebooku a zkuste přijít na to,\n",
    "   co děláme v prvním případě špatně.\n",
    "\n",
    "1. vek, vyska cloveka\n",
    "\n",
    "1. vek, pohlavi, vyska cloveka\n",
    "\n",
    "1. vek, pohlavi, velikost mesta, vyska cloveka\n",
    "\n",
    "1. velikost mesta, iq, vyska cloveka\n",
    "\n",
    "1. rodne cislo, vek\n",
    "\n",
    "1. pocet splnenych ukolu, pocet absenci, uz pracovala pred kurzem s daty, pravdepodobnost ze najde praci s daty\n",
    "\n",
    "1. pocet splnenych ukolu, pocet absenci, uz pracovala pred kurzem s daty, bude/nebude pracovat s daty\n",
    "\n",
    "1. categoricka prom. vice moznosti\n",
    "\n",
    "1. hromada CV (text) uchazec: seznam skillu, delka praxe, .... , vyska platu\n"
   ]
  },
  {
   "cell_type": "code",
   "execution_count": null,
   "metadata": {},
   "outputs": [],
   "source": []
  }
 ],
 "metadata": {
  "language_info": {
   "codemirror_mode": {
    "name": "ipython",
    "version": 3
   },
   "file_extension": ".py",
   "mimetype": "text/x-python",
   "name": "python",
   "nbconvert_exporter": "python",
   "pygments_lexer": "ipython3",
   "version": "3.6.8"
  }
 },
 "nbformat": 4,
 "nbformat_minor": 2
}
