{
 "cells": [
  {
   "cell_type": "markdown",
   "metadata": {},
   "source": [
    "# Regresní metriky"
   ]
  },
  {
   "cell_type": "markdown",
   "metadata": {},
   "source": [
    "V úvodním příkladu s krajinou jsme si metriku vymýšleli sami. Existuje \n",
    "samozřejmě řada standardním metrik, které se k hodnocení modelů používají.\n",
    "Uvedeme si přehled nejnámějších z nich:\n",
    "\n",
    "-  **MSE (Mean squared error)** - průměr sumy čterců odchylek požadovaných výstupů od predikovaných výstupů \n",
    "\n",
    "    $$\n",
    "    MSE(y, \\hat{y}) = \\frac{1}{N} \\sum_{i=1}^N (y_i - y_N)^2 \n",
    "    $$\n",
    "\n",
    "- **MAE (Mean absolute error)** - průměr absolutních hodnot odchylek požadovaných výstupů od predikovaných výstupů \n",
    "\n",
    "    $$\n",
    "    MAE(y, \\hat{y}) = \\frac{1}{N} \\sum_{i=1}^N |y_i - y_N| \n",
    "    $$\n",
    "\n",
    "- **$R^2$ score** "
   ]
  },
  {
   "cell_type": "code",
   "execution_count": null,
   "metadata": {},
   "outputs": [],
   "source": []
  }
 ],
 "metadata": {
  "kernelspec": {
   "display_name": "Python 3",
   "language": "python",
   "name": "python3"
  },
  "language_info": {
   "codemirror_mode": {
    "name": "ipython",
    "version": 3
   },
   "file_extension": ".py",
   "mimetype": "text/x-python",
   "name": "python",
   "nbconvert_exporter": "python",
   "pygments_lexer": "ipython3",
   "version": "3.6.8"
  }
 },
 "nbformat": 4,
 "nbformat_minor": 2
}
